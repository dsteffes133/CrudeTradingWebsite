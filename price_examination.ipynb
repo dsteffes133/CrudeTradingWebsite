{
 "cells": [
  {
   "cell_type": "code",
   "execution_count": 1,
   "metadata": {},
   "outputs": [
    {
     "name": "stdout",
     "output_type": "stream",
     "text": [
      "⚠️  Install `kpler‑sdk` to enable Kpler pipelines.\n",
      "⚠️  Install `fredapi` to enable macro pipeline.\n",
      "['Arab Light USGC PIMS complex yield daily netback dated, No time stamp, netback, USD/bl, fob, FILLED FORWARD', 'Arab Medium USGC PIMS complex yield daily netback dated, No time stamp, netback, USD/bl, fob, FILLED FORWARD', 'Bonny Light USGC PIMS complex yield daily netback dated, No time stamp, netback, USD/bl, fob, FILLED FORWARD', 'LLS USGC PIMS complex yield daily netback dated, No time stamp, netback, USD/bl, fob, FILLED FORWARD', 'Mars USGC PIMS complex yield daily netback dated, No time stamp, netback, USD/bl, fob, FILLED FORWARD', 'Maya USGC PIMS complex yield daily netback dated, No time stamp, netback, USD/bl, fob, FILLED FORWARD', 'Minas Singapore PIMS complex yield daily netback dated, No time stamp, netback, USD/bl, fob, FILLED FORWARD', 'Murban Singapore PIMS complex yield daily netback dated, No time stamp, netback, USD/bl, fob, FILLED FORWARD', 'Oman Singapore PIMS complex yield daily netback dated, No time stamp, netback, USD/bl, fob, FILLED FORWARD', 'Mars Tanker dirty USGC to China 270kt USD/bl prompt, No time stamp, rate, USD/bl, _, FILLED FORWARD', 'Mars Tanker dirty USGC to Rotterdam 270kt USD/bl prompt, No time stamp, rate, USD/bl, _, FILLED FORWARD', 'Mars Tanker dirty USGC to Singapore 270kt USD/bl prompt, No time stamp, rate, USD/bl, _, FILLED FORWARD', 'Mars Tanker dirty USGC to South Korea/Japan 270kt USD/bl prompt, No time stamp, rate, USD/bl, _, FILLED FORWARD', 'Mars Tanker dirty USGC to west coast India 270kt USD/bl prompt, No time stamp, rate, USD/bl, _, FILLED FORWARD', 'WCS Tanker dirty USGC to China 270kt USD/bl prompt, No time stamp, rate, USD/bl, _, FILLED FORWARD', 'WCS Tanker dirty USGC to Rotterdam 270kt USD/bl prompt, No time stamp, rate, USD/bl, _, FILLED FORWARD', 'WCS Tanker dirty USGC to Singapore 270kt USD/bl prompt, No time stamp, rate, USD/bl, _, FILLED FORWARD', 'WCS Tanker dirty USGC to South Korea/Japan 270kt USD/bl prompt, No time stamp, rate, USD/bl, _, FILLED FORWARD', 'WCS Tanker dirty USGC to west coast India 270kt USD/bl prompt, No time stamp, rate, USD/bl, _, FILLED FORWARD', 'WTI Tanker dirty USGC to China 270kt USD/bl prompt, No time stamp, rate, USD/bl, _, FILLED FORWARD', 'WTI Tanker dirty USGC to Europe 145kt USD/bl prompt, No time stamp, rate, USD/bl, _, FILLED FORWARD', 'WTI Tanker dirty USGC to Rotterdam 270kt USD/bl prompt, No time stamp, rate, USD/bl, _, FILLED FORWARD', 'WTI Tanker dirty USGC to Singapore 270kt USD/bl prompt, No time stamp, rate, USD/bl, _, FILLED FORWARD', 'WTI Tanker dirty USGC to South Korea/Japan 270kt USD/bl prompt, No time stamp, rate, USD/bl, _, FILLED FORWARD', 'WTI Tanker dirty USGC to west coast India 270kt USD/bl prompt, No time stamp, rate, USD/bl, _, FILLED FORWARD', 'Bakken Beaumont/Nederland weighted average month 1, Houston close, diff index, USD/bl, fip, FILLED FORWARD', 'Bakken Cushing weighted average month 1, Houston close, diff index, USD/bl, fip, FILLED FORWARD', 'Canadian High TAN Cushing weighted average month 1, Houston close, diff index, USD/bl, fip, FILLED FORWARD', 'Canadian High TAN Houston weighted average month 1, Houston close, diff index, USD/bl, fip, FILLED FORWARD', 'Canadian Syncrude daily weighted average month 1, Houston close, diff index, USD/bl, fip, FILLED FORWARD', 'DJ Light Cushing weighted average month 1, Houston close, diff index, USD/bl, fip, FILLED FORWARD', 'LLS weighted average month 1, Houston close, diff index, USD/bl, fip, FILLED FORWARD', 'Mars weighted average month 1, Houston close, diff index, USD/bl, fip, FILLED FORWARD', 'Niobrara Cushing weighted average month 1, Houston close, diff index, USD/bl, fip, FILLED FORWARD', 'Poseidon weighted average month 1, Houston close, diff index, USD/bl, fip, FILLED FORWARD', 'Southern Green Canyon weighted average month 1, Houston close, diff index, USD/bl, fip, FILLED FORWARD', 'Thunder Horse weighted average month 1, Houston close, diff index, USD/bl, fip, FILLED FORWARD', 'WCS Cushing weighted average month 1, Houston close, diff index, USD/bl, fip, FILLED FORWARD', 'WCS Houston weighted average month 1, Houston close, diff index, USD/bl, fip, FILLED FORWARD', 'White Cliffs Cushing weighted average month 1, Houston close, diff index, USD/bl, fip, FILLED FORWARD', 'WTI Diff to CMA Nymex weighted average month 1, Houston close, diff index, USD/bl, fip, FILLED FORWARD', 'WTI Formula Basis month 1, No time stamp, midpoint, USD/bl, fip, FILLED FORWARD', 'WTI Houston weighted average month 1, Houston close, diff index, USD/bl, fip, FILLED FORWARD', 'WTI Midland Enterprise weighted average month 1, Houston close, diff index, USD/bl, fip, FILLED FORWARD', 'WTI Midland weighted average month 1, Houston close, diff index, USD/bl, fip, FILLED FORWARD', 'WTL Midland weighted average month 1, Houston close, diff index, USD/bl, fip, FILLED FORWARD', 'WTS weighted average month 1, Houston close, diff index, USD/bl, fip, FILLED FORWARD']\n"
     ]
    }
   ],
   "source": [
    "from app.modules.data_utils import load_aligned\n",
    "\n",
    "df = load_aligned(\"pricing_vector\")\n",
    "\n",
    "x = df.columns.to_list()\n",
    "\n",
    "print(x)"
   ]
  },
  {
   "cell_type": "code",
   "execution_count": null,
   "metadata": {},
   "outputs": [],
   "source": []
  }
 ],
 "metadata": {
  "kernelspec": {
   "display_name": "base",
   "language": "python",
   "name": "python3"
  },
  "language_info": {
   "codemirror_mode": {
    "name": "ipython",
    "version": 3
   },
   "file_extension": ".py",
   "mimetype": "text/x-python",
   "name": "python",
   "nbconvert_exporter": "python",
   "pygments_lexer": "ipython3",
   "version": "3.11.5"
  }
 },
 "nbformat": 4,
 "nbformat_minor": 2
}
